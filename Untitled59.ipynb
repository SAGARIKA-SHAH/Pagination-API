{
  "nbformat": 4,
  "nbformat_minor": 0,
  "metadata": {
    "colab": {
      "provenance": [],
      "authorship_tag": "ABX9TyORR4igo4oeLZ4PLNL5iVwP",
      "include_colab_link": true
    },
    "kernelspec": {
      "name": "python3",
      "display_name": "Python 3"
    },
    "language_info": {
      "name": "python"
    }
  },
  "cells": [
    {
      "cell_type": "markdown",
      "metadata": {
        "id": "view-in-github",
        "colab_type": "text"
      },
      "source": [
        "<a href=\"https://colab.research.google.com/github/SAGARIKA-SHAH/Pagination-API/blob/main/Untitled59.ipynb\" target=\"_parent\"><img src=\"https://colab.research.google.com/assets/colab-badge.svg\" alt=\"Open In Colab\"/></a>"
      ]
    },
    {
      "cell_type": "code",
      "execution_count": 1,
      "metadata": {
        "colab": {
          "base_uri": "https://localhost:8080/"
        },
        "id": "-PXLv9yyokQ6",
        "outputId": "68f85354-e6c9-4c1c-b4a9-52333d6aed67"
      },
      "outputs": [
        {
          "output_type": "stream",
          "name": "stdout",
          "text": [
            " * Serving Flask app '__main__'\n",
            " * Debug mode: on\n"
          ]
        },
        {
          "output_type": "stream",
          "name": "stderr",
          "text": [
            "INFO:werkzeug:\u001b[31m\u001b[1mWARNING: This is a development server. Do not use it in a production deployment. Use a production WSGI server instead.\u001b[0m\n",
            " * Running on http://127.0.0.1:5000\n",
            "INFO:werkzeug:\u001b[33mPress CTRL+C to quit\u001b[0m\n",
            "INFO:werkzeug: * Restarting with stat\n"
          ]
        }
      ],
      "source": [
        "# Import necessary libraries\n",
        "from flask import Flask, request, jsonify\n",
        "import jwt\n",
        "import datetime\n",
        "from functools import wraps\n",
        "import pandas as pd\n",
        "\n",
        "# Initialize the Flask app\n",
        "app = Flask(__name__)\n",
        "\n",
        "# Secret key for JWT token (Change this to a secure secret)\n",
        "app.config['SECRET_KEY'] = 'your_secret_key'\n",
        "\n",
        "# Dummy user and product data (replace with your database)\n",
        "users = []\n",
        "products = []\n",
        "\n",
        "# JWT Token Validation decorator\n",
        "def token_required(f):\n",
        "    @wraps(f)\n",
        "    def decorated(*args, **kwargs):\n",
        "        token = request.headers.get('Authorization')\n",
        "\n",
        "        if not token:\n",
        "            return jsonify({'message': 'Token is missing!'}), 401\n",
        "\n",
        "        try:\n",
        "            data = jwt.decode(token, app.config['SECRET_KEY'])\n",
        "        except:\n",
        "            return jsonify({'message': 'Token is invalid!'}), 401\n",
        "\n",
        "        return f(*args, **kwargs)\n",
        "\n",
        "    return decorated\n",
        "\n",
        "# Registration API\n",
        "@app.route('/api/register', methods=['POST'])\n",
        "def register():\n",
        "    data = request.get_json()\n",
        "    # Add validation and database insertion logic here\n",
        "    users.append(data)\n",
        "    return jsonify({'message': 'User registered successfully'})\n",
        "\n",
        "# Login API\n",
        "@app.route('/api/login', methods=['POST'])\n",
        "def login():\n",
        "    auth = request.get_json()\n",
        "    # Add validation and authentication logic here (check credentials)\n",
        "    token = jwt.encode({'user': auth['email'], 'exp': datetime.datetime.utcnow() + datetime.timedelta(hours=1)},\n",
        "                       app.config['SECRET_KEY'])\n",
        "    return jsonify({'token': token.decode('UTF-8')})\n",
        "\n",
        "# Product Upload API (CSV file uploads)\n",
        "@app.route('/api/upload/products', methods=['POST'])\n",
        "@token_required\n",
        "def upload_products():\n",
        "    # Check if the user is an admin (you can add more validation logic)\n",
        "    auth_data = jwt.decode(request.headers['Authorization'], app.config['SECRET_KEY'])\n",
        "    user_email = auth_data['user']\n",
        "    if user_email != 'admin@example.com':\n",
        "        return jsonify({'message': 'Unauthorized!'}), 403\n",
        "\n",
        "    # Handle CSV file upload and save product data to the database\n",
        "    if 'file' not in request.files:\n",
        "        return jsonify({'message': 'No file part'}), 400\n",
        "\n",
        "    file = request.files['file']\n",
        "\n",
        "    if file.filename == '':\n",
        "        return jsonify({'message': 'No selected file'}), 400\n",
        "\n",
        "    if file:\n",
        "        df = pd.read_csv(file)\n",
        "        # Add logic to save product data to the database\n",
        "\n",
        "    return jsonify({'message': 'Products uploaded successfully'})\n",
        "\n",
        "# Product Review API\n",
        "@app.route('/api/products/<int:product_id>/reviews', methods=['POST'])\n",
        "@token_required\n",
        "def add_product_review(product_id):\n",
        "    data = request.get_json()\n",
        "    # Add validation and database insertion logic here\n",
        "    return jsonify({'message': 'Review added successfully'})\n",
        "\n",
        "# Product View Pagination API\n",
        "@app.route('/api/products', methods=['GET'])\n",
        "def get_products():\n",
        "    page = request.args.get('page', default=1, type=int)\n",
        "    limit = request.args.get('limit', default=10, type=int)\n",
        "    sort_by = request.args.get('sort_by', default='review_score')\n",
        "\n",
        "    # Implement pagination and sorting logic here\n",
        "    # Return a subset of products based on page, limit, and sorting criteria\n",
        "\n",
        "    return jsonify({'message': 'Product list here'})\n",
        "\n",
        "if __name__ == '__main__':\n",
        "    app.run(debug=True)\n"
      ]
    }
  ]
}